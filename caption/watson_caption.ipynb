{
 "cells": [
  {
   "cell_type": "code",
   "execution_count": 2,
   "id": "32f7c9cb-711d-4a8c-8ec9-9a463be27211",
   "metadata": {},
   "outputs": [],
   "source": [
    "# NLU呼び出し用インスタンス生成\n",
    "from dotenv import load_dotenv\n",
    "apikey = os.getenv('WATSON_API_KEY')\n",
    "url = os.getenv('WATSON_API_URL')\n",
    "\n",
    "# NLUの資格情報 2つの値は巻末付録3の手順で取得したものに置き換えて下さい \n",
    "nlu_credentials = {\n",
    "  \"apikey\": apikey,\n",
    "  \"url\": url\n",
    "}\n",
    "\n",
    "# 必要なライブラリのimport\n",
    "import json\n",
    "from ibm_watson import NaturalLanguageUnderstandingV1\n",
    "from ibm_watson.natural_language_understanding_v1 import *\n",
    "from ibm_cloud_sdk_core.authenticators import IAMAuthenticator\n",
    "\n",
    "# API呼び出し用インスタンスの生成\n",
    "authenticator = IAMAuthenticator(nlu_credentials['apikey'])\n",
    "nlu = NaturalLanguageUnderstandingV1(\n",
    "    version='2019-07-12',\n",
    "    authenticator=authenticator\n",
    ")\n",
    "nlu.set_service_url(nlu_credentials['url'])\n"
   ]
  },
  {
   "cell_type": "code",
   "execution_count": 3,
   "id": "5f91e32a-db75-4dff-9b45-a1fd649597db",
   "metadata": {},
   "outputs": [],
   "source": [
    "# NLU呼び出し用共通関数\n",
    "\n",
    "# text: 対象テキスト\n",
    "# feature: 機能を意味するObject\n",
    "# key: 結果jsonをfilterするためのキー\n",
    "def call_nlu(text, features, key):\n",
    "    response = nlu.analyze(text=text, features=features).get_result()\n",
    "    return response[key]"
   ]
  },
  {
   "cell_type": "code",
   "execution_count": 4,
   "id": "3551405e-6ca5-440f-bcce-585f76f4d95b",
   "metadata": {},
   "outputs": [
    {
     "name": "stdout",
     "output_type": "stream",
     "text": [
      "[]\n"
     ]
    }
   ],
   "source": [
    "# エンティティ抽出機能の呼び出し\n",
    "\n",
    "# 対象テキスト\n",
    "text = \"a woman holding a cup and a cup of red cup and a cup\"\n",
    "\n",
    "# 機能として「エンティティ抽出機能」を利用\n",
    "features=Features(entities=EntitiesOptions())\n",
    "\n",
    "# 共通関数呼び出し\n",
    "ret = call_nlu(text, features, \"entities\")\n",
    "\n",
    "# 結果の表示\n",
    "print(json.dumps(ret, indent=2, ensure_ascii=False))"
   ]
  },
  {
   "cell_type": "code",
   "execution_count": 4,
   "id": "e5d40ec5-90fb-49cd-8d5a-498d1435be3d",
   "metadata": {},
   "outputs": [
    {
     "name": "stdout",
     "output_type": "stream",
     "text": [
      "[]\n"
     ]
    }
   ],
   "source": [
    "# リスト 4.2.4 関係抽出機能の呼び出し\n",
    "\n",
    "# 対象テキスト\n",
    "text = \"a woman holding a cup and a cup of red cup and a cup\"\n",
    "\n",
    "# 機能として「関係抽出機能」を利用\n",
    "features=Features(relations=RelationsOptions())\n",
    "\n",
    "# 共通関数呼び出し\n",
    "ret = call_nlu(text, features, \"relations\")\n",
    "\n",
    "# 結果の表示\n",
    "print(json.dumps(ret, indent=2, ensure_ascii=False))"
   ]
  },
  {
   "cell_type": "code",
   "execution_count": 13,
   "id": "e21f2172-262e-47f8-8c59-5c17ac6e0dd6",
   "metadata": {},
   "outputs": [
    {
     "name": "stdout",
     "output_type": "stream",
     "text": [
      "{\n",
      "  \"document\": {\n",
      "    \"score\": 0,\n",
      "    \"label\": \"neutral\"\n",
      "  }\n",
      "}\n",
      "{\n",
      "  \"document\": {\n",
      "    \"score\": 0.931994,\n",
      "    \"label\": \"positive\"\n",
      "  }\n",
      "}\n"
     ]
    }
   ],
   "source": [
    "# リスト 4.2.5 評判分析機能の呼び出し\n",
    "\n",
    "# テキスト1 (いい評判の例)\n",
    "text1 = 'a woman holding a cup and a cup of red cup and a cup'\n",
    "\n",
    "# テキスト2 (悪い評判の例)\n",
    "text2 = 'a woman posing in mid tie in a new and a smiling behind the cup'\n",
    "\n",
    "\n",
    "# テキスト1を評判分析\n",
    "features=Features(sentiment=SentimentOptions())\n",
    "ret = call_nlu(text1, features, \"sentiment\")\n",
    "print(json.dumps(ret, indent=2, ensure_ascii=False))\n",
    "\n",
    "# テキスト2を評判分析\n",
    "features=Features(sentiment=SentimentOptions())\n",
    "ret = call_nlu(text2, features, \"sentiment\")\n",
    "print(json.dumps(ret, indent=2, ensure_ascii=False))"
   ]
  },
  {
   "cell_type": "code",
   "execution_count": 10,
   "id": "328c3102-cb7e-41c0-84ff-8e00c3a9d2e3",
   "metadata": {},
   "outputs": [
    {
     "name": "stdout",
     "output_type": "stream",
     "text": [
      "{\n",
      "  \"document\": {\n",
      "    \"score\": 0,\n",
      "    \"label\": \"neutral\"\n",
      "  }\n",
      "}\n",
      "{\n",
      "  \"document\": {\n",
      "    \"score\": 0.589719,\n",
      "    \"label\": \"positive\"\n",
      "  }\n",
      "}\n"
     ]
    }
   ],
   "source": [
    "# リスト 4.2.5 評判分析機能の呼び出し\n",
    "\n",
    "# テキスト1 (いい評判の例)\n",
    "text1 = 'three photos showing a spoon sitting on top of it and food'\n",
    "\n",
    "# テキスト2 (悪い評判の例)\n",
    "text2 = 'soup on a plate next to a yellow <unk> baking item on it on the table with bread sit on it'\n",
    "\n",
    "\n",
    "# テキスト1を評判分析\n",
    "features=Features(sentiment=SentimentOptions())\n",
    "ret = call_nlu(text1, features, \"sentiment\")\n",
    "print(json.dumps(ret, indent=2, ensure_ascii=False))\n",
    "\n",
    "# テキスト2を評判分析\n",
    "features=Features(sentiment=SentimentOptions())\n",
    "ret = call_nlu(text2, features, \"sentiment\")\n",
    "print(json.dumps(ret, indent=2, ensure_ascii=False))"
   ]
  },
  {
   "cell_type": "code",
   "execution_count": 11,
   "id": "7e7787da-5cda-4459-8de5-78e81ed84f38",
   "metadata": {},
   "outputs": [
    {
     "name": "stdout",
     "output_type": "stream",
     "text": [
      "{\n",
      "  \"document\": {\n",
      "    \"score\": 0,\n",
      "    \"label\": \"neutral\"\n",
      "  }\n",
      "}\n",
      "{\n",
      "  \"document\": {\n",
      "    \"score\": 0.306054,\n",
      "    \"label\": \"positive\"\n",
      "  }\n",
      "}\n"
     ]
    }
   ],
   "source": [
    "# リスト 4.2.5 評判分析機能の呼び出し\n",
    "\n",
    "# テキスト1 (いい評判の例)\n",
    "text1 = 'four young men walking on the beach with several umbrellas'\n",
    "\n",
    "# テキスト2 (悪い評判の例)\n",
    "text2 = 'a man out <unk> to get on a ledge of a boat'\n",
    "\n",
    "\n",
    "# テキスト1を評判分析\n",
    "features=Features(sentiment=SentimentOptions())\n",
    "ret = call_nlu(text1, features, \"sentiment\")\n",
    "print(json.dumps(ret, indent=2, ensure_ascii=False))\n",
    "\n",
    "# テキスト2を評判分析\n",
    "features=Features(sentiment=SentimentOptions())\n",
    "ret = call_nlu(text2, features, \"sentiment\")\n",
    "print(json.dumps(ret, indent=2, ensure_ascii=False))"
   ]
  },
  {
   "cell_type": "code",
   "execution_count": 8,
   "id": "6425ea2e-98a7-4ba4-a240-8217baa5f7bd",
   "metadata": {},
   "outputs": [
    {
     "name": "stdout",
     "output_type": "stream",
     "text": [
      "{\n",
      "  \"document\": {\n",
      "    \"emotion\": {\n",
      "      \"sadness\": 0.157419,\n",
      "      \"joy\": 0.407697,\n",
      "      \"fear\": 0.08024,\n",
      "      \"disgust\": 0.36489,\n",
      "      \"anger\": 0.062328\n",
      "    }\n",
      "  }\n",
      "}\n"
     ]
    }
   ],
   "source": [
    "text = 'a woman holding a cup and a cup of red cup and a cup'\n",
    "\n",
    "features=Features(emotion=EmotionOptions())\n",
    "ret = call_nlu(text, features, \"emotion\")\n",
    "print(json.dumps(ret, indent=2, ensure_ascii=False))"
   ]
  },
  {
   "cell_type": "code",
   "execution_count": 5,
   "id": "c92d4d35-4e77-405c-9f78-b6f33ac283eb",
   "metadata": {},
   "outputs": [
    {
     "name": "stdout",
     "output_type": "stream",
     "text": [
      "{\n",
      "  \"document\": {\n",
      "    \"emotion\": {\n",
      "      \"sadness\": 0.033142,\n",
      "      \"joy\": 0.805311,\n",
      "      \"fear\": 0.015331,\n",
      "      \"disgust\": 0.138913,\n",
      "      \"anger\": 0.033939\n",
      "    }\n",
      "  }\n",
      "}\n"
     ]
    }
   ],
   "source": [
    "text = 'a woman posing in mid tie in a new and a smiling behind the cup'\n",
    "\n",
    "features=Features(emotion=EmotionOptions())\n",
    "ret = call_nlu(text, features, \"emotion\")\n",
    "print(json.dumps(ret, indent=2, ensure_ascii=False))"
   ]
  },
  {
   "cell_type": "code",
   "execution_count": 9,
   "id": "0cb9073b-fabb-4189-92c5-4838e72d2f43",
   "metadata": {},
   "outputs": [
    {
     "name": "stdout",
     "output_type": "stream",
     "text": [
      "{\n",
      "  \"document\": {\n",
      "    \"emotion\": {\n",
      "      \"sadness\": 0.24517,\n",
      "      \"joy\": 0.436444,\n",
      "      \"fear\": 0.068724,\n",
      "      \"disgust\": 0.185535,\n",
      "      \"anger\": 0.1259\n",
      "    }\n",
      "  }\n",
      "}\n"
     ]
    }
   ],
   "source": [
    "text = 'three photos showing a spoon sitting on top of it and food'\n",
    "\n",
    "features=Features(emotion=EmotionOptions())\n",
    "ret = call_nlu(text, features, \"emotion\")\n",
    "print(json.dumps(ret, indent=2, ensure_ascii=False))"
   ]
  },
  {
   "cell_type": "code",
   "execution_count": 6,
   "id": "98af2fc7-451b-414c-b4eb-af189a718987",
   "metadata": {},
   "outputs": [
    {
     "name": "stdout",
     "output_type": "stream",
     "text": [
      "{\n",
      "  \"document\": {\n",
      "    \"emotion\": {\n",
      "      \"sadness\": 0.167611,\n",
      "      \"joy\": 0.428904,\n",
      "      \"fear\": 0.039027,\n",
      "      \"disgust\": 0.186149,\n",
      "      \"anger\": 0.07508\n",
      "    }\n",
      "  }\n",
      "}\n"
     ]
    }
   ],
   "source": [
    "text = 'soup on a plate next to a yellow <unk> baking item on it on the table with bread sit on it'\n",
    "\n",
    "features=Features(emotion=EmotionOptions())\n",
    "ret = call_nlu(text, features, \"emotion\")\n",
    "print(json.dumps(ret, indent=2, ensure_ascii=False))"
   ]
  },
  {
   "cell_type": "code",
   "execution_count": 10,
   "id": "9ca45dda-491f-4242-97a9-cd9f43db4f0f",
   "metadata": {},
   "outputs": [
    {
     "name": "stdout",
     "output_type": "stream",
     "text": [
      "{\n",
      "  \"document\": {\n",
      "    \"emotion\": {\n",
      "      \"sadness\": 0.243707,\n",
      "      \"joy\": 0.479546,\n",
      "      \"fear\": 0.111673,\n",
      "      \"disgust\": 0.09374,\n",
      "      \"anger\": 0.124488\n",
      "    }\n",
      "  }\n",
      "}\n"
     ]
    }
   ],
   "source": [
    "text = 'four young men walking on the beach with several umbrellas'\n",
    "\n",
    "features=Features(emotion=EmotionOptions())\n",
    "ret = call_nlu(text, features, \"emotion\")\n",
    "print(json.dumps(ret, indent=2, ensure_ascii=False))"
   ]
  },
  {
   "cell_type": "code",
   "execution_count": 7,
   "id": "9254dbe6-4777-466d-bd83-7fc4008233f2",
   "metadata": {},
   "outputs": [
    {
     "name": "stdout",
     "output_type": "stream",
     "text": [
      "{\n",
      "  \"document\": {\n",
      "    \"emotion\": {\n",
      "      \"sadness\": 0.085714,\n",
      "      \"joy\": 0.124748,\n",
      "      \"fear\": 0.408311,\n",
      "      \"disgust\": 0.143858,\n",
      "      \"anger\": 0.419649\n",
      "    }\n",
      "  }\n",
      "}\n"
     ]
    }
   ],
   "source": [
    "text = 'a man out <unk> to get on a ledge of a boat'\n",
    "\n",
    "features=Features(emotion=EmotionOptions())\n",
    "ret = call_nlu(text, features, \"emotion\")\n",
    "print(json.dumps(ret, indent=2, ensure_ascii=False))"
   ]
  },
  {
   "cell_type": "code",
   "execution_count": 11,
   "id": "3b002f9f-b12e-45b0-8bbf-36e3d420e5f8",
   "metadata": {},
   "outputs": [
    {
     "name": "stdout",
     "output_type": "stream",
     "text": [
      "{\n",
      "  \"document\": {\n",
      "    \"emotion\": {\n",
      "      \"sadness\": 0.294606,\n",
      "      \"joy\": 0.36098,\n",
      "      \"fear\": 0.062187,\n",
      "      \"disgust\": 0.203503,\n",
      "      \"anger\": 0.067445\n",
      "    }\n",
      "  }\n",
      "}\n"
     ]
    }
   ],
   "source": [
    "text = 'a couple of a baby elephant and an umbrella and dirt near an apple of the <unk> clearing in dead garden'\n",
    "\n",
    "features=Features(emotion=EmotionOptions())\n",
    "ret = call_nlu(text, features, \"emotion\")\n",
    "print(json.dumps(ret, indent=2, ensure_ascii=False))"
   ]
  },
  {
   "cell_type": "code",
   "execution_count": 8,
   "id": "0fdd0580-4ec8-4359-a09f-0ae5c3b77acc",
   "metadata": {},
   "outputs": [
    {
     "name": "stdout",
     "output_type": "stream",
     "text": [
      "{\n",
      "  \"document\": {\n",
      "    \"emotion\": {\n",
      "      \"sadness\": 0.171237,\n",
      "      \"joy\": 0.144451,\n",
      "      \"fear\": 0.190991,\n",
      "      \"disgust\": 0.149294,\n",
      "      \"anger\": 0.217541\n",
      "    }\n",
      "  }\n",
      "}\n"
     ]
    }
   ],
   "source": [
    "text = 'a man holding a toothbrush in in the street by the woods'\n",
    "\n",
    "features=Features(emotion=EmotionOptions())\n",
    "ret = call_nlu(text, features, \"emotion\")\n",
    "print(json.dumps(ret, indent=2, ensure_ascii=False))"
   ]
  },
  {
   "cell_type": "code",
   "execution_count": 12,
   "id": "7abfcd43-4225-4a82-bc7b-48f7272f2f71",
   "metadata": {},
   "outputs": [
    {
     "name": "stdout",
     "output_type": "stream",
     "text": [
      "{\n",
      "  \"document\": {\n",
      "    \"emotion\": {\n",
      "      \"sadness\": 0.258615,\n",
      "      \"joy\": 0.397404,\n",
      "      \"fear\": 0.120175,\n",
      "      \"disgust\": 0.132572,\n",
      "      \"anger\": 0.096415\n",
      "    }\n",
      "  }\n",
      "}\n"
     ]
    }
   ],
   "source": [
    "text = 'a row of benches on a bar and trees'\n",
    "\n",
    "features=Features(emotion=EmotionOptions())\n",
    "ret = call_nlu(text, features, \"emotion\")\n",
    "print(json.dumps(ret, indent=2, ensure_ascii=False))"
   ]
  },
  {
   "cell_type": "code",
   "execution_count": 13,
   "id": "b8ef48dc-ccf9-421c-9277-f2f2c2b5d173",
   "metadata": {},
   "outputs": [
    {
     "name": "stdout",
     "output_type": "stream",
     "text": [
      "{\n",
      "  \"document\": {\n",
      "    \"emotion\": {\n",
      "      \"sadness\": 0.149739,\n",
      "      \"joy\": 0.081248,\n",
      "      \"fear\": 0.086858,\n",
      "      \"disgust\": 0.066712,\n",
      "      \"anger\": 0.090711\n",
      "    }\n",
      "  }\n",
      "}\n"
     ]
    }
   ],
   "source": [
    "text = 'a room with an <unk> has many different lit room of chairs dining desk and other items'\n",
    "\n",
    "features=Features(emotion=EmotionOptions())\n",
    "ret = call_nlu(text, features, \"emotion\")\n",
    "print(json.dumps(ret, indent=2, ensure_ascii=False))"
   ]
  },
  {
   "cell_type": "code",
   "execution_count": 14,
   "id": "3864f32c-1662-4efa-8ecf-2c1e8703adee",
   "metadata": {},
   "outputs": [
    {
     "name": "stdout",
     "output_type": "stream",
     "text": [
      "{\n",
      "  \"document\": {\n",
      "    \"emotion\": {\n",
      "      \"sadness\": 0.14874,\n",
      "      \"joy\": 0.482743,\n",
      "      \"fear\": 0.151197,\n",
      "      \"disgust\": 0.257894,\n",
      "      \"anger\": 0.048058\n",
      "    }\n",
      "  }\n",
      "}\n"
     ]
    }
   ],
   "source": [
    "text = 'a man walking across a beach in the water'\n",
    "\n",
    "features=Features(emotion=EmotionOptions())\n",
    "ret = call_nlu(text, features, \"emotion\")\n",
    "print(json.dumps(ret, indent=2, ensure_ascii=False))"
   ]
  },
  {
   "cell_type": "code",
   "execution_count": null,
   "id": "24270f47-c064-4ea1-92fb-5d6751504a7a",
   "metadata": {},
   "outputs": [],
   "source": []
  }
 ],
 "metadata": {
  "kernelspec": {
   "display_name": "Python 3",
   "language": "python",
   "name": "python3"
  },
  "language_info": {
   "codemirror_mode": {
    "name": "ipython",
    "version": 3
   },
   "file_extension": ".py",
   "mimetype": "text/x-python",
   "name": "python",
   "nbconvert_exporter": "python",
   "pygments_lexer": "ipython3",
   "version": "3.8.8"
  },
  "vscode": {
   "interpreter": {
    "hash": "1f7d333164446bd73c63780c6be9b5fab28ebaa5a92d675f678b4d7df28c1657"
   }
  }
 },
 "nbformat": 4,
 "nbformat_minor": 5
}
